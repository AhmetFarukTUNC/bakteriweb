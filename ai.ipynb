{
 "cells": [
  {
   "cell_type": "code",
   "execution_count": null,
   "metadata": {},
   "outputs": [],
   "source": [
    "import numpy as np\n",
    "from tensorflow import keras\n",
    "from tensorflow.keras.preprocessing import image\n",
    "from rembg import remove\n",
    "from PIL import Image\n",
    "import os\n",
    "\n",
    "# === 1. Modeli Yükle ===\n",
    "MODEL_PATH = \"tl_unet_98_7label.keras\"\n",
    "if not os.path.exists(MODEL_PATH):\n",
    "    raise FileNotFoundError(f\"Model dosyası bulunamadı: {MODEL_PATH}\")\n",
    "\n",
    "model = keras.models.load_model(MODEL_PATH)\n",
    "print(\"Model başarıyla yüklendi.\")\n",
    "\n",
    "# Resim özellikleri\n",
    "IMAGE_SIZE = (256, 256)\n",
    "CLASS_NAMES = ['Acineto', 'Ecoli', 'Enterobakter', 'Kpneumoniae', 'Proteus', 'PsAeruginosa', 'StaphAureus']\n",
    "\n",
    "# === 2. Görüntüyü İşle ===\n",
    "img_path = 'images/sample.jpg'  # Test etmek istediğin görüntü yolu\n",
    "if not os.path.exists(img_path):\n",
    "    raise FileNotFoundError(f\"Görüntü dosyası bulunamadı: {img_path}\")\n",
    "\n",
    "# Arka planı kaldır ve yeni bir dosya olarak kaydet\n",
    "image = Image.open(img_path)\n",
    "output = remove(image)\n",
    "processed_path = \"temp_no_bg.png\"\n",
    "output.save(processed_path)\n",
    "print(f\"Arka plan kaldırıldı ve {processed_path} olarak kaydedildi.\")\n",
    "\n",
    "# Görüntüyü yükle ve boyutlandır\n",
    "img = image.load_img(processed_path, target_size=IMAGE_SIZE)\n",
    "img_array = image.img_to_array(img) / 255.0  # Normalizasyon\n",
    "img_array = np.expand_dims(img_array, axis=0)\n",
    "\n",
    "# === 3. Tahmin Yap ===\n",
    "predictions = model.predict(img_array)[0]\n",
    "max_index = np.argmax(predictions)\n",
    "predicted_class = CLASS_NAMES[max_index]\n",
    "max_probability = float(predictions[max_index])\n",
    "\n",
    "print(f\"Tahmin Edilen Bakteri: {predicted_class}, Olasılık: {max_probability * 100:.2f}%\")\n",
    "\n",
    "# Geçici dosyayı temizle\n",
    "os.remove(processed_path)\n"
   ]
  },
  {
   "cell_type": "code",
   "execution_count": null,
   "metadata": {},
   "outputs": [
    {
     "name": "stdout",
     "output_type": "stream",
     "text": [
      "Requirement already satisfied: rembg in c:\\users\\atunc\\anaconda3\\lib\\site-packages (2.0.64)\n",
      "Requirement already satisfied: jsonschema in c:\\users\\atunc\\anaconda3\\lib\\site-packages (from rembg) (4.19.2)\n",
      "Requirement already satisfied: numpy in c:\\users\\atunc\\anaconda3\\lib\\site-packages (from rembg) (1.26.4)\n",
      "Requirement already satisfied: opencv-python-headless in c:\\users\\atunc\\anaconda3\\lib\\site-packages (from rembg) (4.11.0.86)\n",
      "Requirement already satisfied: pillow in c:\\users\\atunc\\anaconda3\\lib\\site-packages (from rembg) (10.3.0)\n",
      "Requirement already satisfied: pooch in c:\\users\\atunc\\anaconda3\\lib\\site-packages (from rembg) (1.8.2)\n",
      "Requirement already satisfied: pymatting in c:\\users\\atunc\\anaconda3\\lib\\site-packages (from rembg) (1.1.13)\n",
      "Requirement already satisfied: scikit-image in c:\\users\\atunc\\anaconda3\\lib\\site-packages (from rembg) (0.23.2)\n",
      "Requirement already satisfied: scipy in c:\\users\\atunc\\anaconda3\\lib\\site-packages (from rembg) (1.13.1)\n",
      "Requirement already satisfied: tqdm in c:\\users\\atunc\\anaconda3\\lib\\site-packages (from rembg) (4.66.4)\n",
      "Requirement already satisfied: attrs>=22.2.0 in c:\\users\\atunc\\anaconda3\\lib\\site-packages (from jsonschema->rembg) (23.1.0)\n",
      "Requirement already satisfied: jsonschema-specifications>=2023.03.6 in c:\\users\\atunc\\anaconda3\\lib\\site-packages (from jsonschema->rembg) (2023.7.1)\n",
      "Requirement already satisfied: referencing>=0.28.4 in c:\\users\\atunc\\anaconda3\\lib\\site-packages (from jsonschema->rembg) (0.30.2)\n",
      "Requirement already satisfied: rpds-py>=0.7.1 in c:\\users\\atunc\\anaconda3\\lib\\site-packages (from jsonschema->rembg) (0.10.6)\n",
      "Requirement already satisfied: platformdirs>=2.5.0 in c:\\users\\atunc\\anaconda3\\lib\\site-packages (from pooch->rembg) (3.10.0)\n",
      "Requirement already satisfied: packaging>=20.0 in c:\\users\\atunc\\anaconda3\\lib\\site-packages (from pooch->rembg) (23.2)\n",
      "Requirement already satisfied: requests>=2.19.0 in c:\\users\\atunc\\anaconda3\\lib\\site-packages (from pooch->rembg) (2.32.2)\n",
      "Requirement already satisfied: numba!=0.49.0 in c:\\users\\atunc\\anaconda3\\lib\\site-packages (from pymatting->rembg) (0.59.1)\n",
      "Requirement already satisfied: networkx>=2.8 in c:\\users\\atunc\\anaconda3\\lib\\site-packages (from scikit-image->rembg) (3.2.1)\n",
      "Requirement already satisfied: imageio>=2.33 in c:\\users\\atunc\\anaconda3\\lib\\site-packages (from scikit-image->rembg) (2.33.1)\n",
      "Requirement already satisfied: tifffile>=2022.8.12 in c:\\users\\atunc\\anaconda3\\lib\\site-packages (from scikit-image->rembg) (2023.4.12)\n",
      "Requirement already satisfied: lazy-loader>=0.4 in c:\\users\\atunc\\anaconda3\\lib\\site-packages (from scikit-image->rembg) (0.4)\n",
      "Requirement already satisfied: colorama in c:\\users\\atunc\\anaconda3\\lib\\site-packages (from tqdm->rembg) (0.4.6)\n",
      "Requirement already satisfied: llvmlite<0.43,>=0.42.0dev0 in c:\\users\\atunc\\anaconda3\\lib\\site-packages (from numba!=0.49.0->pymatting->rembg) (0.42.0)\n",
      "Requirement already satisfied: charset-normalizer<4,>=2 in c:\\users\\atunc\\anaconda3\\lib\\site-packages (from requests>=2.19.0->pooch->rembg) (2.0.4)\n",
      "Requirement already satisfied: idna<4,>=2.5 in c:\\users\\atunc\\anaconda3\\lib\\site-packages (from requests>=2.19.0->pooch->rembg) (3.7)\n",
      "Requirement already satisfied: urllib3<3,>=1.21.1 in c:\\users\\atunc\\anaconda3\\lib\\site-packages (from requests>=2.19.0->pooch->rembg) (2.2.2)\n",
      "Requirement already satisfied: certifi>=2017.4.17 in c:\\users\\atunc\\anaconda3\\lib\\site-packages (from requests>=2.19.0->pooch->rembg) (2024.8.30)\n"
     ]
    }
   ],
   "source": [
    "!pip install --force-reinstall onnxruntime-gpu\n",
    "\n"
   ]
  }
 ],
 "metadata": {
  "kernelspec": {
   "display_name": "base",
   "language": "python",
   "name": "python3"
  },
  "language_info": {
   "codemirror_mode": {
    "name": "ipython",
    "version": 3
   },
   "file_extension": ".py",
   "mimetype": "text/x-python",
   "name": "python",
   "nbconvert_exporter": "python",
   "pygments_lexer": "ipython3",
   "version": "3.12.7"
  }
 },
 "nbformat": 4,
 "nbformat_minor": 2
}
